{
 "cells": [
  {
   "cell_type": "code",
   "execution_count": 2,
   "metadata": {},
   "outputs": [],
   "source": [
    "import sys\n",
    "import os\n",
    "from skimage.feature import hog\n",
    "from skimage import feature\n",
    "from LocalBinaryPattern import LocalBinaryPatterns\n",
    "import numpy as np\n",
    "import matplotlib.pyplot as plt\n",
    "import cv2\n",
    "\n",
    "\n",
    "import pandas as pd\n",
    "from skimage.transform import resize\n",
    "from skimage.io import imread\n",
    "\n",
    "from sklearn.svm import LinearSVC\n",
    "from imutils import paths\n",
    "from sklearn import svm\n",
    "from sklearn.metrics import classification_report\n",
    "from sklearn.metrics import accuracy_score\n",
    "from sklearn.model_selection import GridSearchCV\n",
    "from sklearn.metrics import confusion_matrix\n",
    "from sklearn.model_selection import train_test_split\n",
    "import argparse\n",
    "import cv2\n",
    "import os\n",
    "import pickle\n",
    "# from .._shared.utils import check_nD\n",
    "# from ._texture import (_glcm_loop,\n",
    "#                        _local_binary_pattern,\n",
    "#                        _multiblock_lbp)\n",
    "np.set_printoptions(threshold=sys.maxsize)"
   ]
  },
  {
   "cell_type": "code",
   "execution_count": 15,
   "metadata": {},
   "outputs": [
    {
     "data": {
      "image/png": "[encoded data removed]",
      "text/plain": [
       "<Figure size 432x288 with 1 Axes>"
      ]
     },
     "metadata": {
      "needs_background": "light"
     },
     "output_type": "display_data"
    },
    {
     "name": "stdout",
     "output_type": "stream",
     "text": [
      "10\n",
      "----------------------------------------------------------------------------------------------------\n",
      "[5.35208333e-03 2.23750000e-03 4.08333333e-04 8.95833333e-05\n",
      " 2.50000000e-05 2.29166667e-05 6.25000000e-06 0.00000000e+00\n",
      " 2.08333333e-06 2.08333333e-06 2.08333333e-06 0.00000000e+00\n",
      " 0.00000000e+00 0.00000000e+00 0.00000000e+00 9.88858333e-01\n",
      " 2.99375000e-03]\n"
     ]
    }
   ],
   "source": [
    "# with open('img.png', 'w') as f:\n",
    "    #     f.write(img)\n",
    "    #     f.close()\n",
    "\n",
    "infile = open(\"Test_Data\",'rb')\n",
    "imgs = pickle.load(infile)\n",
    "infile.close()\n",
    "plt.imshow(imgs[0], cmap=\"gray\")\n",
    "plt.show()\n",
    "print(len(imgs))\n",
    "\n"
   ]
  },
  {
   "cell_type": "code",
   "execution_count": 3,
   "metadata": {},
   "outputs": [],
   "source": [
    "def normalize_image(inputImage , standardBackgroundSize , outputImageSize):\n",
    "    img = inputImage.astype(np.uint8)\n",
    "    \n",
    "\n",
    "    max_r, max_c = standardBackgroundSize\n",
    "    out_r, out_c = outputImageSize\n",
    "   \n",
    "    \n",
    "    #blurred_image = cv2.GaussianBlur(img,(5,5),0)\n",
    "\n",
    "\n",
    "    threshold, binarized_image = cv2.threshold(img, 0, 255, cv2.THRESH_BINARY_INV + cv2.THRESH_OTSU)\n",
    "    cv2.imwrite('D:/third year/2st term/NN/project/M.jpg',binarized_image)\n",
    "    \n",
    "    r, c = np.where(binarized_image == 0)\n",
    "\n",
    "    r_center = int(r.mean() - r.min())\n",
    "    c_center = int(c.mean() - c.min())\n",
    "\n",
    "\n",
    "    cropped = img[r.min(): r.max(), c.min(): c.max()]\n",
    "\n",
    "\n",
    "    img_r, img_c = cropped.shape\n",
    "\n",
    "    r_start = max_r // 2 - r_center\n",
    "    c_start = max_c // 2 - c_center\n",
    "\n",
    "\n",
    "    if img_r > max_r:\n",
    "        print ('Warning: cropping image. The signature should be smaller than the canvas size')\n",
    "        r_start = 0\n",
    "        difference = img_r - max_r\n",
    "        crop_start = difference // 2\n",
    "        cropped = cropped[crop_start:crop_start + max_r, :]\n",
    "        img_r = max_r\n",
    "    else:\n",
    "        extra_r = (r_start + img_r) - max_r\n",
    "      \n",
    "        if extra_r > 0:\n",
    "            r_start -= extra_r\n",
    "        if r_start < 0:\n",
    "            r_start = 0\n",
    "\n",
    "   \n",
    "    if img_c > max_c:\n",
    "        print ('Warning: cropping image. The signature should be smaller than the canvas size')\n",
    "        c_start = 0\n",
    "        difference = img_c - max_c\n",
    "        crop_start = difference // 2\n",
    "        cropped = cropped[:, crop_start:crop_start + max_c]\n",
    "        img_c = max_c\n",
    "    else:\n",
    "        extra_c = (c_start + img_c) - max_c\n",
    "        if extra_c > 0:\n",
    "            c_start -= extra_c\n",
    "        if c_start < 0:\n",
    "            c_start = 0\n",
    "\n",
    "    normalized_image = np.ones((max_r, max_c), dtype=np.uint8) * 255\n",
    "   \n",
    "    normalized_image[r_start:r_start + img_r, c_start:c_start + img_c] = cropped\n",
    "    \n",
    "\n",
    "    normalized_image[normalized_image > threshold] = 0\n",
    "    \n",
    "    resized = cv2.resize(normalized_image, (out_r, out_c))\n",
    "    \n",
    "    scalled = resized / 255.0\n",
    "    return scalled"
   ]
  },
  {
   "cell_type": "code",
   "execution_count": 4,
   "metadata": {},
   "outputs": [],
   "source": [
    "#to  make all same size\n",
    "i=1\n",
    "img_resized=[]\n",
    "outfile = open(\"Test_Data\",'wb')\n",
    "for imagePath in paths.list_images('D:/third year/2st term/NN/project/dataSet/test' + \"/\"):\n",
    "    \n",
    "    image = cv2.imread(imagePath)\n",
    "    gray = cv2.cvtColor(image, cv2.COLOR_BGR2GRAY)\n",
    "    img_resized.append(normalize_image(gray,[4000 , 3000],[600,800]))\n",
    "    \n",
    "    \n",
    "    \n",
    "    \n",
    "    \n",
    "pickle.dump(img_resized,outfile)   \n",
    "outfile.close()"
   ]
  },
  {
   "cell_type": "code",
   "execution_count": 62,
   "metadata": {},
   "outputs": [
    {
     "name": "stdout",
     "output_type": "stream",
     "text": [
      "D:/third year/2st term/NN/project/dataSet/Male/M1.jpg\n",
      "2\n"
     ]
    }
   ],
   "source": [
    "i=1\n",
    "for imagePath in paths.list_images('D:/third year/2st term/NN/project/dataSet/Male' + \"/\"):\n",
    "    print(imagePath)\n",
    "    image = cv2.imread(imagePath)\n",
    "    gray = cv2.cvtColor(image, cv2.COLOR_BGR2GRAY)\n",
    "    img_resized = normalize_image(gray,[4000 , 3000],[600,800])\n",
    "    cv2.imwrite('D:/third year/2st term/NN/project/dataSetSized/Male/M'+str(i)+'.jpg',img_resized)\n",
    "    i+=1\n",
    "    print(i)\n",
    "    break\n",
    "    "
   ]
  },
  {
   "cell_type": "code",
   "execution_count": 16,
   "metadata": {},
   "outputs": [],
   "source": [
    "def compute_LBP():\n",
    "    numberOfPoints = 24\n",
    "    radius = 8\n",
    "    # initialize the local binary patterns descriptor along with\n",
    "    # the data and label lists\n",
    "    desc = LocalBinaryPatterns(numberOfPoints, radius)\n",
    "    train_data_arr = []\n",
    "    train_labels_arr = []\n",
    "    test_data_arr = []\n",
    "    test_labels_arr = []\n",
    "    predictions_arr = []\n",
    "\n",
    "\n",
    "    #train image\n",
    "    #Initialise labels\n",
    "    Categories = ['Male_Data', 'Female_Data']\n",
    "    for i in Categories:\n",
    "        print(f'loading... category : {i}')\n",
    "        infile = open(i,'rb')\n",
    "        imgs = pickle.load(infile)\n",
    "        infile.close()\n",
    "        \n",
    "\n",
    "        for image in imgs:\n",
    "\n",
    "            \n",
    "\t        # load the image, convert it to grayscale, and describe it\n",
    "            \n",
    "            \n",
    "\n",
    "            \n",
    "            hist = desc.describe(image)\n",
    "            train_data_arr.append(hist)\n",
    "            train_labels_arr.append(Categories.index(i))\n",
    "            \n",
    "            # train a Linear SVM on the data\n",
    "    train_data = np.array(train_data_arr)\n",
    "    train_label = np.array(train_labels_arr)\n",
    "    df = pd.DataFrame(train_data)  # dataframe\n",
    "    df['Target'] = train_label\n",
    "    x_train = df.iloc[:, :-1]\n",
    "    y_train = df.iloc[:, -1]  # output data\n",
    "    param_grid = {'C': [0.1, 1, 10, 100], 'gamma': [0.0001, 0.001, 0.1, 1], 'kernel': ['poly', 'linear', 'rbf', 'sigmoid']}\n",
    "    svc = svm.SVC()\n",
    "    model = GridSearchCV(svc, param_grid)\n",
    "    model.fit(x_train, y_train)\n",
    "    print(model.best_params_)\n",
    "    print('The Model is trained well with the given images')\n",
    "\n",
    "    # loop over the valid images\n",
    "    print(\"Compute validation\")\n",
    "    Categories = ['Male_Data', 'Female_Data']\n",
    "    for i in Categories:\n",
    "        print(f'loading... category : {i}')\n",
    "        infile = open(i,'rb')\n",
    "        imgs = pickle.load(infile)\n",
    "        infile.close()\n",
    "        \n",
    "\n",
    "        for image in imgs:\n",
    "\n",
    "            hist = desc.describe(image)\n",
    "            test_data_arr.append(hist)\n",
    "            test_labels_arr.append(Categories.index(i))\n",
    "    # test_labels_arr=[1,1,1,1,1,1,1,1,1,1,0,0,0,0,0,0,0,0,0,0]\n",
    "    test_data = np.array(test_data_arr)\n",
    "    test_label = np.array(test_labels_arr)\n",
    "    df = pd.DataFrame(test_data)  # dataframe\n",
    "    df['Target'] = test_label\n",
    "    x_test = df.iloc[:, :-1]  # input data\n",
    "    y_test = df.iloc[:, -1]  # output data\n",
    "    predictions = model.predict(x_test)\n",
    "    print(f\"Accuracy : {accuracy_score(predictions, y_test) * 100}%\")\n",
    "    matrix = confusion_matrix(y_test, predictions)\n",
    "    print('Confusion matrix : \\n', matrix)\n",
    "    print('Classification report : \\n', classification_report(y_test,predictions))\n",
    "\n",
    "    f = open(\"result.txt\", \"w+\")\n",
    "    f.write(f\"number of points :{numberOfPoints}\\n\")\n",
    "    f.write(f\"radius :{radius}\\n\")\n",
    "    f.write(f\"Accuracy : {accuracy_score(predictions, y_test) * 100}%\\n\")\n",
    "    f.write(f\"Confusion matrix : {matrix}\\n\")\n",
    "\n",
    "    f.close()\n",
    "    print(\"now testing\")\n",
    "    infile = open(\"Test_Data\",'rb')\n",
    "    imgs = pickle.load(infile)\n",
    "    infile.close()\n",
    "    print(len(imgs)) \n",
    "\n",
    "    for image in imgs:\n",
    "\n",
    "        hist = desc.describe(image)\n",
    "        test_data_arr.append(hist)\n",
    "        test_labels_arr.append(1) \n",
    "    test_data = np.array(test_data_arr)\n",
    "    test_label = np.array(test_labels_arr)\n",
    "    df = pd.DataFrame(test_data)  # dataframe\n",
    "    df['Target'] = test_label\n",
    "    x_test = df.iloc[:, :-1]  # input data\n",
    "    y_test = df.iloc[:, -1]  # output data\n",
    "    predictions = model.predict(x_test)  \n",
    "    print(predictions)  \n",
    "    print(f\"Accuracy : {accuracy_score(predictions, y_test) * 100}%\")\n",
    "   "
   ]
  },
  {
   "cell_type": "code",
   "execution_count": 17,
   "metadata": {},
   "outputs": [
    {
     "name": "stdout",
     "output_type": "stream",
     "text": [
      "loading... category : Male_Data\n",
      "loading... category : Female_Data\n",
      "{'C': 0.1, 'gamma': 0.0001, 'kernel': 'poly'}\n",
      "The Model is trained well with the given images\n",
      "Compute validation\n",
      "loading... category : Male_Data\n",
      "loading... category : Female_Data\n",
      "Accuracy : 64.72303206997084%\n",
      "Confusion matrix : \n",
      " [[222   0]\n",
      " [121   0]]\n",
      "Classification report : \n",
      "               precision    recall  f1-score   support\n",
      "\n",
      "           0       0.65      1.00      0.79       222\n",
      "           1       0.00      0.00      0.00       121\n",
      "\n",
      "    accuracy                           0.65       343\n",
      "   macro avg       0.32      0.50      0.39       343\n",
      "weighted avg       0.42      0.65      0.51       343\n",
      "\n",
      "now testing\n",
      "10\n"
     ]
    },
    {
     "name": "stderr",
     "output_type": "stream",
     "text": [
      "C:\\Users\\7essen\\AppData\\Roaming\\Python\\Python39\\site-packages\\sklearn\\metrics\\_classification.py:1327: UndefinedMetricWarning: Precision and F-score are ill-defined and being set to 0.0 in labels with no predicted samples. Use `zero_division` parameter to control this behavior.\n",
      "  _warn_prf(average, modifier, msg_start, len(result))\n",
      "C:\\Users\\7essen\\AppData\\Roaming\\Python\\Python39\\site-packages\\sklearn\\metrics\\_classification.py:1327: UndefinedMetricWarning: Precision and F-score are ill-defined and being set to 0.0 in labels with no predicted samples. Use `zero_division` parameter to control this behavior.\n",
      "  _warn_prf(average, modifier, msg_start, len(result))\n",
      "C:\\Users\\7essen\\AppData\\Roaming\\Python\\Python39\\site-packages\\sklearn\\metrics\\_classification.py:1327: UndefinedMetricWarning: Precision and F-score are ill-defined and being set to 0.0 in labels with no predicted samples. Use `zero_division` parameter to control this behavior.\n",
      "  _warn_prf(average, modifier, msg_start, len(result))\n"
     ]
    },
    {
     "name": "stdout",
     "output_type": "stream",
     "text": [
      "[0 0 0 0 0 0 0 0 0 0 0 0 0 0 0 0 0 0 0 0 0 0 0 0 0 0 0 0 0 0 0 0 0 0 0 0 0\n",
      " 0 0 0 0 0 0 0 0 0 0 0 0 0 0 0 0 0 0 0 0 0 0 0 0 0 0 0 0 0 0 0 0 0 0 0 0 0\n",
      " 0 0 0 0 0 0 0 0 0 0 0 0 0 0 0 0 0 0 0 0 0 0 0 0 0 0 0 0 0 0 0 0 0 0 0 0 0\n",
      " 0 0 0 0 0 0 0 0 0 0 0 0 0 0 0 0 0 0 0 0 0 0 0 0 0 0 0 0 0 0 0 0 0 0 0 0 0\n",
      " 0 0 0 0 0 0 0 0 0 0 0 0 0 0 0 0 0 0 0 0 0 0 0 0 0 0 0 0 0 0 0 0 0 0 0 0 0\n",
      " 0 0 0 0 0 0 0 0 0 0 0 0 0 0 0 0 0 0 0 0 0 0 0 0 0 0 0 0 0 0 0 0 0 0 0 0 0\n",
      " 0 0 0 0 0 0 0 0 0 0 0 0 0 0 0 0 0 0 0 0 0 0 0 0 0 0 0 0 0 0 0 0 0 0 0 0 0\n",
      " 0 0 0 0 0 0 0 0 0 0 0 0 0 0 0 0 0 0 0 0 0 0 0 0 0 0 0 0 0 0 0 0 0 0 0 0 0\n",
      " 0 0 0 0 0 0 0 0 0 0 0 0 0 0 0 0 0 0 0 0 0 0 0 0 0 0 0 0 0 0 0 0 0 0 0 0 0\n",
      " 0 0 0 0 0 0 0 0 0 0 0 0 0 0 0 0 0 0 0 0]\n",
      "Accuracy : 62.889518413597735%\n"
     ]
    }
   ],
   "source": [
    "\n",
    "compute_LBP()"
   ]
  },
  {
   "cell_type": "code",
   "execution_count": 3,
   "metadata": {},
   "outputs": [
    {
     "data": {
      "text/plain": [
       "True"
      ]
     },
     "execution_count": 3,
     "metadata": {},
     "output_type": "execute_result"
    }
   ],
   "source": [
    "    "
   ]
  }
 ],
 "metadata": {
  "interpreter": {
   "hash": "11938c6bc6919ae2720b4d5011047913343b08a43b18698fd82dedb0d4417594"
  },
  "kernelspec": {
   "display_name": "Python 3.9.13 64-bit",
   "language": "python",
   "name": "python3"
  },
  "language_info": {
   "codemirror_mode": {
    "name": "ipython",
    "version": 3
   },
   "file_extension": ".py",
   "mimetype": "text/x-python",
   "name": "python",
   "nbconvert_exporter": "python",
   "pygments_lexer": "ipython3",
   "version": "3.9.13"
  },
  "orig_nbformat": 4
 },
 "nbformat": 4,
 "nbformat_minor": 2
}
